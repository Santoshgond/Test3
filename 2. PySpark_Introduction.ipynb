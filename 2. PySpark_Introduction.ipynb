{
 "cells": [
  {
   "cell_type": "markdown",
   "metadata": {
    "id": "TZ3I7kGihp-u"
   },
   "source": [
    "# PySpark ( Python API for Spark)\n",
    "* PySpark is the Python API for Apache Spark, an open-source distributed computing framework. It allows for parallel and distributed data processing across a cluster of machines.\n",
    "\n",
    "\n",
    "* PySpark revolves around the concept of Resilient Distributed Datasets (RDDs), which are fault-tolerant collections of data that can be processed in parallel. RDDs support transformations and actions, enabling complex data workflows.\n",
    "\n",
    "* PySpark provides high-level APIs for various data processing tasks, including SQL queries, streaming data processing, and machine learning. It allows seamless integration with popular Python libraries like Pandas and NumPy.\n",
    "\n",
    "* PySpark leverages the Spark engine's ability to distribute data processing tasks across a cluster of machines, providing scalability for large-scale data processing. It is designed to deliver high performance by utilizing in-memory computation and lazy evaluation.\n",
    "\n",
    "Reference link - (https://spark.apache.org/)\n",
    "\n"
   ]
  },
  {
   "cell_type": "code",
   "execution_count": 2,
   "metadata": {
    "_cell_guid": "b1076dfc-b9ad-4769-8c92-a6c4dae69d19",
    "_uuid": "8f2839f25d086af736a60e9eeb907d3b93b6e0e5",
    "colab": {
     "base_uri": "https://localhost:8080/"
    },
    "id": "OQCvvKNnhp-w",
    "outputId": "a08203c7-a9d5-443f-a98d-fd4a881ca402"
   },
   "outputs": [
    {
     "name": "stdout",
     "output_type": "stream",
     "text": [
      "Collecting pyspark\n",
      "  Downloading pyspark-3.5.0.tar.gz (316.9 MB)\n",
      "\u001b[2K     \u001b[90m━━━━━━━━━━━━━━━━━━━━━━━━━━━━━━━━━━━━━━━━\u001b[0m \u001b[32m316.9/316.9 MB\u001b[0m \u001b[31m3.7 MB/s\u001b[0m eta \u001b[36m0:00:00\u001b[0m\n",
      "\u001b[?25h  Preparing metadata (setup.py) ... \u001b[?25l\u001b[?25hdone\n",
      "Requirement already satisfied: py4j==0.10.9.7 in /usr/local/lib/python3.10/dist-packages (from pyspark) (0.10.9.7)\n",
      "Building wheels for collected packages: pyspark\n",
      "  Building wheel for pyspark (setup.py) ... \u001b[?25l\u001b[?25hdone\n",
      "  Created wheel for pyspark: filename=pyspark-3.5.0-py2.py3-none-any.whl size=317425345 sha256=d23157c4cd94d3b9a2742905ab88e55ed0161be3c28a78bb7b599aafbb12db35\n",
      "  Stored in directory: /root/.cache/pip/wheels/41/4e/10/c2cf2467f71c678cfc8a6b9ac9241e5e44a01940da8fbb17fc\n",
      "Successfully built pyspark\n",
      "Installing collected packages: pyspark\n",
      "Successfully installed pyspark-3.5.0\n"
     ]
    }
   ],
   "source": [
    "'''Install pyspark'''\n",
    "!pip install pyspark"
   ]
  },
  {
   "cell_type": "markdown",
   "metadata": {
    "id": "Um98xEL-ilSW"
   },
   "source": [
    "# Spark Session\n",
    "* The entry point to programming Spark with the Dataset and DataFrame API.\n",
    "* Spark Session helps us to create and manipulate DataFrames.\n",
    "\n",
    "Reference - https://spark.apache.org/docs/latest/sql-getting-started.html"
   ]
  },
  {
   "cell_type": "code",
   "execution_count": 3,
   "metadata": {
    "_cell_guid": "79c7e3d0-c299-4dcb-8224-4455121ee9b0",
    "_uuid": "d629ff2d2480ee46fbb7e2d37f6b5fab8052498a",
    "id": "safhqXjFhp-x"
   },
   "outputs": [],
   "source": [
    "# Import necessary libraries\n",
    "import math  # Import the math module for mathematical operations\n",
    "import numpy as np  # Import NumPy for numerical operations\n",
    "import pandas as pd  # Import Pandas for data manipulation\n",
    "import pyspark  # Import PySpark for distributed data processing\n",
    "from pyspark.sql import SparkSession  # Import SparkSession for Spark DataFrame operations\n",
    "from pyspark.sql.functions import isnan, when, count, col, isnull, asc, desc, mean\n",
    "# Import specific functions from PySpark for data wrangling tasks\n",
    "\n",
    "# Create a Spark session\n",
    "spark = SparkSession.builder.master(\"local\").appName(\"DataWrangling\").getOrCreate()\n",
    "# Initialize a Spark session with the following options:\n",
    "\n",
    "# - \"master\": Specifies the master URL, in this case, \"local\" means running in local mode.\n",
    "#   Local mode runs Spark on a single machine, useful for development and testing.\n",
    "#   Other options include \"yarn\" for running on a Hadoop cluster or a specific master URL.\n",
    "\n",
    "# - \"appName\": Specifies the application name, which helps identify the application on the Spark cluster UI.\n",
    "#   In this case, the application is named \"DataWrangling.\"\n",
    "\n",
    "# - \"getOrCreate()\": Retrieves an existing Spark session if available or creates a new one if none exists.\n",
    "\n",
    "# The Spark session serves as the entry point to programming Spark with the DataFrame and SQL API.\n",
    "# It provides a unified interface to access Spark functionality and resources.\n",
    "\n",
    "# Set this configuration to get output similar to Pandas\n",
    "spark.conf.set('spark.sql.repl.eagerEval.enabled', True)\n",
    "# Configure Spark to enable eager evaluation for similar output behavior to Pandas\n"
   ]
  },
  {
   "cell_type": "code",
   "execution_count": 6,
   "metadata": {
    "colab": {
     "base_uri": "https://localhost:8080/",
     "height": 156
    },
    "id": "B9tUsXZshp-y",
    "outputId": "e9814fd6-6560-4006-d7f5-f7aa0e98e5f9"
   },
   "outputs": [
    {
     "data": {
      "text/html": [
       "<table border='1'>\n",
       "<tr><th>PassengerId</th><th>Survived</th><th>Pclass</th><th>Name</th><th>Sex</th><th>Age</th><th>SibSp</th><th>Parch</th><th>Ticket</th><th>Fare</th><th>Cabin</th><th>Embarked</th></tr>\n",
       "<tr><td>1</td><td>0</td><td>3</td><td>Braund, Mr. Owen ...</td><td>male</td><td>22</td><td>1</td><td>0</td><td>A/5 21171</td><td>7.25</td><td>NULL</td><td>S</td></tr>\n",
       "<tr><td>2</td><td>1</td><td>1</td><td>Cumings, Mrs. Joh...</td><td>female</td><td>38</td><td>1</td><td>0</td><td>PC 17599</td><td>71.2833</td><td>C85</td><td>C</td></tr>\n",
       "<tr><td>3</td><td>1</td><td>3</td><td>Heikkinen, Miss. ...</td><td>female</td><td>26</td><td>0</td><td>0</td><td>STON/O2. 3101282</td><td>7.925</td><td>NULL</td><td>S</td></tr>\n",
       "<tr><td>4</td><td>1</td><td>1</td><td>Futrelle, Mrs. Ja...</td><td>female</td><td>35</td><td>1</td><td>0</td><td>113803</td><td>53.1</td><td>C123</td><td>S</td></tr>\n",
       "<tr><td>5</td><td>0</td><td>3</td><td>Allen, Mr. Willia...</td><td>male</td><td>35</td><td>0</td><td>0</td><td>373450</td><td>8.05</td><td>NULL</td><td>S</td></tr>\n",
       "</table>\n"
      ],
      "text/plain": [
       "+-----------+--------+------+--------------------+------+---+-----+-----+----------------+-------+-----+--------+\n",
       "|PassengerId|Survived|Pclass|                Name|   Sex|Age|SibSp|Parch|          Ticket|   Fare|Cabin|Embarked|\n",
       "+-----------+--------+------+--------------------+------+---+-----+-----+----------------+-------+-----+--------+\n",
       "|          1|       0|     3|Braund, Mr. Owen ...|  male| 22|    1|    0|       A/5 21171|   7.25| NULL|       S|\n",
       "|          2|       1|     1|Cumings, Mrs. Joh...|female| 38|    1|    0|        PC 17599|71.2833|  C85|       C|\n",
       "|          3|       1|     3|Heikkinen, Miss. ...|female| 26|    0|    0|STON/O2. 3101282|  7.925| NULL|       S|\n",
       "|          4|       1|     1|Futrelle, Mrs. Ja...|female| 35|    1|    0|          113803|   53.1| C123|       S|\n",
       "|          5|       0|     3|Allen, Mr. Willia...|  male| 35|    0|    0|          373450|   8.05| NULL|       S|\n",
       "+-----------+--------+------+--------------------+------+---+-----+-----+----------------+-------+-----+--------+"
      ]
     },
     "execution_count": 6,
     "metadata": {},
     "output_type": "execute_result"
    }
   ],
   "source": [
    "# create a dataframe to read csv file using spark\n",
    "df = spark.read.csv('/content/train.csv',header=True)\n",
    "df.limit(5)"
   ]
  },
  {
   "cell_type": "code",
   "execution_count": 7,
   "metadata": {
    "colab": {
     "base_uri": "https://localhost:8080/"
    },
    "id": "2av8M1I6hp-y",
    "outputId": "a05be47a-06b4-41ef-c8b8-c8ddd1be251f"
   },
   "outputs": [
    {
     "data": {
      "text/plain": [
       "891"
      ]
     },
     "execution_count": 7,
     "metadata": {},
     "output_type": "execute_result"
    }
   ],
   "source": [
    "'''Find the count of a dataframe'''\n",
    "df.count()"
   ]
  },
  {
   "cell_type": "markdown",
   "metadata": {
    "id": "35Yp7ZVRhp-y"
   },
   "source": [
    "# Basic Queries using PySpark\n",
    "\n"
   ]
  },
  {
   "cell_type": "code",
   "execution_count": 8,
   "metadata": {
    "colab": {
     "base_uri": "https://localhost:8080/",
     "height": 88
    },
    "id": "IrdtNov0hp-y",
    "outputId": "ffdf4135-a615-41e7-f6b3-49e335d39981"
   },
   "outputs": [
    {
     "data": {
      "text/html": [
       "<table border='1'>\n",
       "<tr><th>Sex</th><th>count</th></tr>\n",
       "<tr><td>female</td><td>314</td></tr>\n",
       "<tr><td>male</td><td>577</td></tr>\n",
       "</table>\n"
      ],
      "text/plain": [
       "+------+-----+\n",
       "|   Sex|count|\n",
       "+------+-----+\n",
       "|female|  314|\n",
       "|  male|  577|\n",
       "+------+-----+"
      ]
     },
     "execution_count": 8,
     "metadata": {},
     "output_type": "execute_result"
    }
   ],
   "source": [
    "# Count of values in the 'Sex' column\n",
    "df.groupBy('Sex').count()\n",
    "# Use the groupBy function to group the DataFrame by the 'Sex' column,\n",
    "# and then apply the count function to calculate the number of occurrences for each unique value in the 'Sex' column."
   ]
  },
  {
   "cell_type": "code",
   "execution_count": 9,
   "metadata": {
    "colab": {
     "base_uri": "https://localhost:8080/",
     "height": 133
    },
    "id": "XhCQDx4shp-z",
    "outputId": "6977400f-cb36-4883-8d7a-50d13c6e460b"
   },
   "outputs": [
    {
     "data": {
      "text/html": [
       "<table border='1'>\n",
       "<tr><th>Embarked</th></tr>\n",
       "<tr><td>Q</td></tr>\n",
       "<tr><td>C</td></tr>\n",
       "<tr><td>S</td></tr>\n",
       "<tr><td>NULL</td></tr>\n",
       "</table>\n"
      ],
      "text/plain": [
       "+--------+\n",
       "|Embarked|\n",
       "+--------+\n",
       "|       Q|\n",
       "|       C|\n",
       "|       S|\n",
       "|    NULL|\n",
       "+--------+"
      ]
     },
     "execution_count": 9,
     "metadata": {},
     "output_type": "execute_result"
    }
   ],
   "source": [
    "# Find distinct values of the 'Embarked' column in the DataFrame\n",
    "df.select('Embarked').distinct()\n",
    "# Use the select function to extract the 'Embarked' column, and then apply the distinct function\n",
    "# to obtain a DataFrame containing distinct values present in the 'Embarked' column."
   ]
  },
  {
   "cell_type": "markdown",
   "metadata": {
    "id": "9frXlsZGhp-z"
   },
   "source": []
  },
  {
   "cell_type": "code",
   "execution_count": 27,
   "metadata": {
    "colab": {
     "base_uri": "https://localhost:8080/",
     "height": 88
    },
    "id": "mki07MEQhp-z",
    "outputId": "11d49e3c-af4d-41a7-8c5c-1ca44d1cf557"
   },
   "outputs": [
    {
     "data": {
      "text/html": [
       "<table border='1'>\n",
       "<tr><th>Survived</th></tr>\n",
       "<tr><td>0</td></tr>\n",
       "<tr><td>1</td></tr>\n",
       "</table>\n"
      ],
      "text/plain": [
       "+--------+\n",
       "|Survived|\n",
       "+--------+\n",
       "|       0|\n",
       "|       1|\n",
       "+--------+"
      ]
     },
     "execution_count": 27,
     "metadata": {},
     "output_type": "execute_result"
    }
   ],
   "source": [
    "# Select specific set of columns ('Survived') in the DataFrame and limit the result to 2 rows\n",
    "df.select('Survived').limit(2)\n",
    "# Use the select function to choose the 'Survived' column,\n",
    "# and then apply the limit function to restrict the result to the first 2 rows in the DataFrame."
   ]
  },
  {
   "cell_type": "code",
   "execution_count": 11,
   "metadata": {
    "colab": {
     "base_uri": "https://localhost:8080/",
     "height": 156
    },
    "id": "7P7HypIRhp-z",
    "outputId": "af0084bb-1fce-460a-a694-5bc590cd4788"
   },
   "outputs": [
    {
     "data": {
      "text/html": [
       "<table border='1'>\n",
       "<tr><th>Survived</th><th>Age</th><th>Ticket</th></tr>\n",
       "<tr><td>0</td><td>22</td><td>A/5 21171</td></tr>\n",
       "<tr><td>1</td><td>38</td><td>PC 17599</td></tr>\n",
       "<tr><td>1</td><td>26</td><td>STON/O2. 3101282</td></tr>\n",
       "<tr><td>1</td><td>35</td><td>113803</td></tr>\n",
       "<tr><td>0</td><td>35</td><td>373450</td></tr>\n",
       "</table>\n"
      ],
      "text/plain": [
       "+--------+---+----------------+\n",
       "|Survived|Age|          Ticket|\n",
       "+--------+---+----------------+\n",
       "|       0| 22|       A/5 21171|\n",
       "|       1| 38|        PC 17599|\n",
       "|       1| 26|STON/O2. 3101282|\n",
       "|       1| 35|          113803|\n",
       "|       0| 35|          373450|\n",
       "+--------+---+----------------+"
      ]
     },
     "execution_count": 11,
     "metadata": {},
     "output_type": "execute_result"
    }
   ],
   "source": [
    "df.select('Survived', 'Age', 'Ticket').limit(5)"
   ]
  },
  {
   "cell_type": "code",
   "execution_count": 13,
   "metadata": {
    "colab": {
     "base_uri": "https://localhost:8080/",
     "height": 156
    },
    "id": "9NooJFzNhp-0",
    "outputId": "177050a5-2190-4aed-deb9-b064e6249b32"
   },
   "outputs": [
    {
     "data": {
      "text/html": [
       "<table border='1'>\n",
       "<tr><th>PassengerId</th><th>Survived</th><th>Pclass</th><th>Name</th><th>Sex</th><th>Age</th><th>SibSp</th><th>Parch</th><th>Ticket</th><th>Fare</th><th>Cabin</th><th>Embarked</th></tr>\n",
       "<tr><td>1</td><td>0</td><td>3</td><td>Braund, Mr. Owen ...</td><td>male</td><td>22</td><td>1</td><td>0</td><td>A/5 21171</td><td>7.25</td><td>NULL</td><td>S</td></tr>\n",
       "<tr><td>2</td><td>1</td><td>1</td><td>Cumings, Mrs. Joh...</td><td>female</td><td>38</td><td>1</td><td>0</td><td>PC 17599</td><td>71.2833</td><td>C85</td><td>C</td></tr>\n",
       "<tr><td>3</td><td>1</td><td>3</td><td>Heikkinen, Miss. ...</td><td>female</td><td>26</td><td>0</td><td>0</td><td>STON/O2. 3101282</td><td>7.925</td><td>NULL</td><td>S</td></tr>\n",
       "<tr><td>4</td><td>1</td><td>1</td><td>Futrelle, Mrs. Ja...</td><td>female</td><td>35</td><td>1</td><td>0</td><td>113803</td><td>53.1</td><td>C123</td><td>S</td></tr>\n",
       "<tr><td>5</td><td>0</td><td>3</td><td>Allen, Mr. Willia...</td><td>male</td><td>35</td><td>0</td><td>0</td><td>373450</td><td>8.05</td><td>NULL</td><td>S</td></tr>\n",
       "</table>\n"
      ],
      "text/plain": [
       "+-----------+--------+------+--------------------+------+---+-----+-----+----------------+-------+-----+--------+\n",
       "|PassengerId|Survived|Pclass|                Name|   Sex|Age|SibSp|Parch|          Ticket|   Fare|Cabin|Embarked|\n",
       "+-----------+--------+------+--------------------+------+---+-----+-----+----------------+-------+-----+--------+\n",
       "|          1|       0|     3|Braund, Mr. Owen ...|  male| 22|    1|    0|       A/5 21171|   7.25| NULL|       S|\n",
       "|          2|       1|     1|Cumings, Mrs. Joh...|female| 38|    1|    0|        PC 17599|71.2833|  C85|       C|\n",
       "|          3|       1|     3|Heikkinen, Miss. ...|female| 26|    0|    0|STON/O2. 3101282|  7.925| NULL|       S|\n",
       "|          4|       1|     1|Futrelle, Mrs. Ja...|female| 35|    1|    0|          113803|   53.1| C123|       S|\n",
       "|          5|       0|     3|Allen, Mr. Willia...|  male| 35|    0|    0|          373450|   8.05| NULL|       S|\n",
       "+-----------+--------+------+--------------------+------+---+-----+-----+----------------+-------+-----+--------+"
      ]
     },
     "execution_count": 13,
     "metadata": {},
     "output_type": "execute_result"
    }
   ],
   "source": [
    "# Find not null values in the 'Age' column of the DataFrame\n",
    "df.filter(col('Age').isNotNull()).limit(5)\n",
    "# Use the filter function along with isNotNull condition on the 'Age' column\n",
    "# to obtain a DataFrame containing rows where the 'Age' column is not null, and then limit the result to the first 5 rows."
   ]
  },
  {
   "cell_type": "code",
   "execution_count": 14,
   "metadata": {
    "colab": {
     "base_uri": "https://localhost:8080/",
     "height": 156
    },
    "id": "rHT04e6php-0",
    "outputId": "7db32d13-60a2-4743-e5f8-511e1a7c8466"
   },
   "outputs": [
    {
     "data": {
      "text/html": [
       "<table border='1'>\n",
       "<tr><th>PassengerId</th><th>Survived</th><th>Pclass</th><th>Name</th><th>Sex</th><th>Age</th><th>SibSp</th><th>Parch</th><th>Ticket</th><th>Fare</th><th>Cabin</th><th>Embarked</th></tr>\n",
       "<tr><td>1</td><td>0</td><td>3</td><td>Braund, Mr. Owen ...</td><td>male</td><td>22</td><td>1</td><td>0</td><td>A/5 21171</td><td>7.25</td><td>NULL</td><td>S</td></tr>\n",
       "<tr><td>2</td><td>1</td><td>1</td><td>Cumings, Mrs. Joh...</td><td>female</td><td>38</td><td>1</td><td>0</td><td>PC 17599</td><td>71.2833</td><td>C85</td><td>C</td></tr>\n",
       "<tr><td>3</td><td>1</td><td>3</td><td>Heikkinen, Miss. ...</td><td>female</td><td>26</td><td>0</td><td>0</td><td>STON/O2. 3101282</td><td>7.925</td><td>NULL</td><td>S</td></tr>\n",
       "<tr><td>4</td><td>1</td><td>1</td><td>Futrelle, Mrs. Ja...</td><td>female</td><td>35</td><td>1</td><td>0</td><td>113803</td><td>53.1</td><td>C123</td><td>S</td></tr>\n",
       "<tr><td>5</td><td>0</td><td>3</td><td>Allen, Mr. Willia...</td><td>male</td><td>35</td><td>0</td><td>0</td><td>373450</td><td>8.05</td><td>NULL</td><td>S</td></tr>\n",
       "</table>\n"
      ],
      "text/plain": [
       "+-----------+--------+------+--------------------+------+---+-----+-----+----------------+-------+-----+--------+\n",
       "|PassengerId|Survived|Pclass|                Name|   Sex|Age|SibSp|Parch|          Ticket|   Fare|Cabin|Embarked|\n",
       "+-----------+--------+------+--------------------+------+---+-----+-----+----------------+-------+-----+--------+\n",
       "|          1|       0|     3|Braund, Mr. Owen ...|  male| 22|    1|    0|       A/5 21171|   7.25| NULL|       S|\n",
       "|          2|       1|     1|Cumings, Mrs. Joh...|female| 38|    1|    0|        PC 17599|71.2833|  C85|       C|\n",
       "|          3|       1|     3|Heikkinen, Miss. ...|female| 26|    0|    0|STON/O2. 3101282|  7.925| NULL|       S|\n",
       "|          4|       1|     1|Futrelle, Mrs. Ja...|female| 35|    1|    0|          113803|   53.1| C123|       S|\n",
       "|          5|       0|     3|Allen, Mr. Willia...|  male| 35|    0|    0|          373450|   8.05| NULL|       S|\n",
       "+-----------+--------+------+--------------------+------+---+-----+-----+----------------+-------+-----+--------+"
      ]
     },
     "execution_count": 14,
     "metadata": {},
     "output_type": "execute_result"
    }
   ],
   "source": [
    "'''Another way to find not null values of 'Age' '''\n",
    "df.filter(\"Age is not NULL\").limit(5)"
   ]
  },
  {
   "cell_type": "code",
   "execution_count": 17,
   "metadata": {
    "id": "RC1ZsoFxhp-0"
   },
   "outputs": [],
   "source": [
    "# Find the mean of the 'Age' column in the DataFrame\n",
    "mean_ = df.select(mean(col('Age'))).take(1)[0][0]\n",
    "# Use the select function with mean aggregation on the 'Age' column,\n",
    "# and then take the result, which is a list, to get the mean value.\n",
    "\n",
    "# Round up the mean value using math.ceil\n",
    "mean_ = math.ceil(mean_)\n",
    "# Use the math.ceil function to round up the mean value to the nearest integer.\n"
   ]
  },
  {
   "cell_type": "code",
   "execution_count": 18,
   "metadata": {
    "colab": {
     "base_uri": "https://localhost:8080/",
     "height": 156
    },
    "id": "hQ7CLD1xhp-1",
    "outputId": "9d5d286b-e57c-467a-c342-9c46e51cb9a3"
   },
   "outputs": [
    {
     "data": {
      "text/html": [
       "<table border='1'>\n",
       "<tr><th>Cabin</th><th>count</th></tr>\n",
       "<tr><td>NULL</td><td>687</td></tr>\n",
       "<tr><td>B96 B98</td><td>4</td></tr>\n",
       "<tr><td>G6</td><td>4</td></tr>\n",
       "<tr><td>C23 C25 C27</td><td>4</td></tr>\n",
       "<tr><td>F2</td><td>3</td></tr>\n",
       "</table>\n"
      ],
      "text/plain": [
       "+-----------+-----+\n",
       "|      Cabin|count|\n",
       "+-----------+-----+\n",
       "|       NULL|  687|\n",
       "|    B96 B98|    4|\n",
       "|         G6|    4|\n",
       "|C23 C25 C27|    4|\n",
       "|         F2|    3|\n",
       "+-----------+-----+"
      ]
     },
     "execution_count": 18,
     "metadata": {},
     "output_type": "execute_result"
    }
   ],
   "source": [
    "# Find the value counts of the 'Cabin' column in the DataFrame and select the mode\n",
    "df.groupBy(col('Cabin')).count().sort(desc(\"count\")).limit(5)\n",
    "# Use the groupBy function on the 'Cabin' column to group the DataFrame by cabin values,\n",
    "# then apply the count function to calculate the occurrences of each unique cabin value.\n",
    "# Sort the result in descending order based on the count, and limit it to the top 5 rows to get the mode(s)."
   ]
  },
  {
   "cell_type": "code",
   "execution_count": 19,
   "metadata": {
    "id": "v03PrWu0hp-1"
   },
   "outputs": [],
   "source": [
    "# Find the mode of the 'Embarked' column in the DataFrame\n",
    "embarked_mode = df.groupBy(col('Embarked')).count().sort(desc(\"count\")).take(1)[0][0]\n",
    "# Use the groupBy function on the 'Embarked' column to group the DataFrame by embarkation values,\n",
    "# then apply the count function to calculate the occurrences of each unique embarkation value.\n",
    "# Sort the result in descending order based on the count, take the top row (mode), and extract the 'Embarked' value."
   ]
  },
  {
   "cell_type": "code",
   "execution_count": 20,
   "metadata": {
    "id": "BGjfzZY3hp-1"
   },
   "outputs": [],
   "source": [
    "# Fill the missing values in the DataFrame\n",
    "df = df.fillna({'Age': mean_, 'Cabin': 'C23', 'Embarked': embarked_mode})\n",
    "# Use the fillna function to replace missing values in specific columns with specified values.\n",
    "# In this case, missing values in the 'Age' column are replaced with the calculated mean_,\n",
    "# missing values in the 'Cabin' column are replaced with 'C23', and missing values in the 'Embarked' column are replaced with the mode."
   ]
  },
  {
   "cell_type": "code",
   "execution_count": 21,
   "metadata": {
    "colab": {
     "base_uri": "https://localhost:8080/",
     "height": 156
    },
    "id": "luh6nQB9hp-1",
    "outputId": "4aa40c5a-7e9b-49cc-9ed1-30fdc5f8397e"
   },
   "outputs": [
    {
     "data": {
      "text/html": [
       "<table border='1'>\n",
       "<tr><th>PassengerId</th><th>Survived</th><th>Pclass</th><th>Name</th><th>Sex</th><th>SibSp</th><th>Parch</th><th>Ticket</th><th>Fare</th><th>Cabin</th><th>Embarked</th></tr>\n",
       "<tr><td>1</td><td>0</td><td>3</td><td>Braund, Mr. Owen ...</td><td>male</td><td>1</td><td>0</td><td>A/5 21171</td><td>7.25</td><td>C23</td><td>S</td></tr>\n",
       "<tr><td>2</td><td>1</td><td>1</td><td>Cumings, Mrs. Joh...</td><td>female</td><td>1</td><td>0</td><td>PC 17599</td><td>71.2833</td><td>C85</td><td>C</td></tr>\n",
       "<tr><td>3</td><td>1</td><td>3</td><td>Heikkinen, Miss. ...</td><td>female</td><td>0</td><td>0</td><td>STON/O2. 3101282</td><td>7.925</td><td>C23</td><td>S</td></tr>\n",
       "<tr><td>4</td><td>1</td><td>1</td><td>Futrelle, Mrs. Ja...</td><td>female</td><td>1</td><td>0</td><td>113803</td><td>53.1</td><td>C123</td><td>S</td></tr>\n",
       "<tr><td>5</td><td>0</td><td>3</td><td>Allen, Mr. Willia...</td><td>male</td><td>0</td><td>0</td><td>373450</td><td>8.05</td><td>C23</td><td>S</td></tr>\n",
       "</table>\n"
      ],
      "text/plain": [
       "+-----------+--------+------+--------------------+------+-----+-----+----------------+-------+-----+--------+\n",
       "|PassengerId|Survived|Pclass|                Name|   Sex|SibSp|Parch|          Ticket|   Fare|Cabin|Embarked|\n",
       "+-----------+--------+------+--------------------+------+-----+-----+----------------+-------+-----+--------+\n",
       "|          1|       0|     3|Braund, Mr. Owen ...|  male|    1|    0|       A/5 21171|   7.25|  C23|       S|\n",
       "|          2|       1|     1|Cumings, Mrs. Joh...|female|    1|    0|        PC 17599|71.2833|  C85|       C|\n",
       "|          3|       1|     3|Heikkinen, Miss. ...|female|    0|    0|STON/O2. 3101282|  7.925|  C23|       S|\n",
       "|          4|       1|     1|Futrelle, Mrs. Ja...|female|    1|    0|          113803|   53.1| C123|       S|\n",
       "|          5|       0|     3|Allen, Mr. Willia...|  male|    0|    0|          373450|   8.05|  C23|       S|\n",
       "+-----------+--------+------+--------------------+------+-----+-----+----------------+-------+-----+--------+"
      ]
     },
     "execution_count": 21,
     "metadata": {},
     "output_type": "execute_result"
    }
   ],
   "source": [
    "# Drop a single column ('Age') from the DataFrame\n",
    "df.drop('Age').limit(5)\n",
    "# Use the drop function to remove the specified column ('Age') from the DataFrame,\n",
    "# and then limit the result to the first 5 rows to display the modified DataFrame."
   ]
  },
  {
   "cell_type": "code",
   "execution_count": 22,
   "metadata": {
    "colab": {
     "base_uri": "https://localhost:8080/",
     "height": 156
    },
    "id": "o355lkFLhp-1",
    "outputId": "002493d1-3259-4527-d7ff-1deac8418483"
   },
   "outputs": [
    {
     "data": {
      "text/html": [
       "<table border='1'>\n",
       "<tr><th>PassengerId</th><th>Survived</th><th>Pclass</th><th>Name</th><th>Sex</th><th>SibSp</th><th>Fare</th><th>Cabin</th><th>Embarked</th></tr>\n",
       "<tr><td>1</td><td>0</td><td>3</td><td>Braund, Mr. Owen ...</td><td>male</td><td>1</td><td>7.25</td><td>C23</td><td>S</td></tr>\n",
       "<tr><td>2</td><td>1</td><td>1</td><td>Cumings, Mrs. Joh...</td><td>female</td><td>1</td><td>71.2833</td><td>C85</td><td>C</td></tr>\n",
       "<tr><td>3</td><td>1</td><td>3</td><td>Heikkinen, Miss. ...</td><td>female</td><td>0</td><td>7.925</td><td>C23</td><td>S</td></tr>\n",
       "<tr><td>4</td><td>1</td><td>1</td><td>Futrelle, Mrs. Ja...</td><td>female</td><td>1</td><td>53.1</td><td>C123</td><td>S</td></tr>\n",
       "<tr><td>5</td><td>0</td><td>3</td><td>Allen, Mr. Willia...</td><td>male</td><td>0</td><td>8.05</td><td>C23</td><td>S</td></tr>\n",
       "</table>\n"
      ],
      "text/plain": [
       "+-----------+--------+------+--------------------+------+-----+-------+-----+--------+\n",
       "|PassengerId|Survived|Pclass|                Name|   Sex|SibSp|   Fare|Cabin|Embarked|\n",
       "+-----------+--------+------+--------------------+------+-----+-------+-----+--------+\n",
       "|          1|       0|     3|Braund, Mr. Owen ...|  male|    1|   7.25|  C23|       S|\n",
       "|          2|       1|     1|Cumings, Mrs. Joh...|female|    1|71.2833|  C85|       C|\n",
       "|          3|       1|     3|Heikkinen, Miss. ...|female|    0|  7.925|  C23|       S|\n",
       "|          4|       1|     1|Futrelle, Mrs. Ja...|female|    1|   53.1| C123|       S|\n",
       "|          5|       0|     3|Allen, Mr. Willia...|  male|    0|   8.05|  C23|       S|\n",
       "+-----------+--------+------+--------------------+------+-----+-------+-----+--------+"
      ]
     },
     "execution_count": 22,
     "metadata": {},
     "output_type": "execute_result"
    }
   ],
   "source": [
    "# Drop multiple columns ('Age', 'Parch', 'Ticket') from the DataFrame\n",
    "df.drop('Age', 'Parch', 'Ticket').limit(5)\n",
    "# Use the drop function to remove the specified columns ('Age', 'Parch', 'Ticket') from the DataFrame,\n",
    "# and then limit the result to the first 5 rows to display the modified DataFrame."
   ]
  },
  {
   "cell_type": "code",
   "execution_count": 23,
   "metadata": {
    "colab": {
     "base_uri": "https://localhost:8080/",
     "height": 156
    },
    "id": "lmYByrU9hp-1",
    "outputId": "d0393129-31b4-474d-f9e3-0fbf326f2b93"
   },
   "outputs": [
    {
     "data": {
      "text/html": [
       "<table border='1'>\n",
       "<tr><th>PassengerId</th><th>Survived</th><th>Pclass</th><th>Name</th><th>Sex</th><th>Age</th><th>SibSp</th><th>Parch</th><th>Ticket</th><th>Fare</th><th>Cabin</th><th>Embarked</th></tr>\n",
       "<tr><td>183</td><td>0</td><td>3</td><td>Asplund, Master. ...</td><td>male</td><td>9</td><td>4</td><td>2</td><td>347077</td><td>31.3875</td><td>C23</td><td>S</td></tr>\n",
       "<tr><td>148</td><td>0</td><td>3</td><td>&quot;Ford, Miss. Robi...</td><td>female</td><td>9</td><td>2</td><td>2</td><td>W./C. 6608</td><td>34.375</td><td>C23</td><td>S</td></tr>\n",
       "<tr><td>166</td><td>1</td><td>3</td><td>&quot;Goldsmith, Maste...</td><td>male</td><td>9</td><td>0</td><td>2</td><td>363291</td><td>20.525</td><td>C23</td><td>S</td></tr>\n",
       "<tr><td>490</td><td>1</td><td>3</td><td>&quot;Coutts, Master. ...</td><td>male</td><td>9</td><td>1</td><td>1</td><td>C.A. 37671</td><td>15.9</td><td>C23</td><td>S</td></tr>\n",
       "<tr><td>481</td><td>0</td><td>3</td><td>Goodwin, Master. ...</td><td>male</td><td>9</td><td>5</td><td>2</td><td>CA 2144</td><td>46.9</td><td>C23</td><td>S</td></tr>\n",
       "</table>\n"
      ],
      "text/plain": [
       "+-----------+--------+------+--------------------+------+---+-----+-----+----------+-------+-----+--------+\n",
       "|PassengerId|Survived|Pclass|                Name|   Sex|Age|SibSp|Parch|    Ticket|   Fare|Cabin|Embarked|\n",
       "+-----------+--------+------+--------------------+------+---+-----+-----+----------+-------+-----+--------+\n",
       "|        183|       0|     3|Asplund, Master. ...|  male|  9|    4|    2|    347077|31.3875|  C23|       S|\n",
       "|        148|       0|     3|\"Ford, Miss. Robi...|female|  9|    2|    2|W./C. 6608| 34.375|  C23|       S|\n",
       "|        166|       1|     3|\"Goldsmith, Maste...|  male|  9|    0|    2|    363291| 20.525|  C23|       S|\n",
       "|        490|       1|     3|\"Coutts, Master. ...|  male|  9|    1|    1|C.A. 37671|   15.9|  C23|       S|\n",
       "|        481|       0|     3|Goodwin, Master. ...|  male|  9|    5|    2|   CA 2144|   46.9|  C23|       S|\n",
       "+-----------+--------+------+--------------------+------+---+-----+-----+----------+-------+-----+--------+"
      ]
     },
     "execution_count": 23,
     "metadata": {},
     "output_type": "execute_result"
    }
   ],
   "source": [
    "# Sort the 'Age' column in descending order in the DataFrame\n",
    "df.sort(desc('Age')).limit(5)\n",
    "# Use the sort function with desc (descending) order on the 'Age' column to arrange the DataFrame rows based on the 'Age' values in descending order,\n",
    "# and then limit the result to the first 5 rows to display the sorted DataFrame."
   ]
  },
  {
   "cell_type": "markdown",
   "metadata": {},
   "source": [
    "### As you reach the end of this PySpark notebook , remember: every line of code written is a step towards mastering the power of big data. Best of luck in your future data adventures, and may your insights be as profound as your code is elegant! Happy Sparking!"
   ]
  }
 ],
 "metadata": {
  "colab": {
   "provenance": []
  },
  "kernelspec": {
   "display_name": "Python 3 (ipykernel)",
   "language": "python",
   "name": "python3"
  },
  "language_info": {
   "codemirror_mode": {
    "name": "ipython",
    "version": 3
   },
   "file_extension": ".py",
   "mimetype": "text/x-python",
   "name": "python",
   "nbconvert_exporter": "python",
   "pygments_lexer": "ipython3",
   "version": "3.11.5"
  },
  "varInspector": {
   "cols": {
    "lenName": 16,
    "lenType": 16,
    "lenVar": 40
   },
   "kernels_config": {
    "python": {
     "delete_cmd_postfix": "",
     "delete_cmd_prefix": "del ",
     "library": "var_list.py",
     "varRefreshCmd": "print(var_dic_list())"
    },
    "r": {
     "delete_cmd_postfix": ") ",
     "delete_cmd_prefix": "rm(",
     "library": "var_list.r",
     "varRefreshCmd": "cat(var_dic_list()) "
    }
   },
   "types_to_exclude": [
    "module",
    "function",
    "builtin_function_or_method",
    "instance",
    "_Feature"
   ],
   "window_display": false
  }
 },
 "nbformat": 4,
 "nbformat_minor": 1
}
